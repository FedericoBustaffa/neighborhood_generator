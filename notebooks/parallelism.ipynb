{
 "cells": [
  {
   "cell_type": "markdown",
   "id": "a748443d-a78a-42ee-afe7-76cbb2622ab9",
   "metadata": {},
   "source": [
    "# Parallelismo\n",
    "\n",
    "In questo notebook si vogliono mettere in evidenza alcuni aspetti da\n",
    "considerare nell'ambito del calcolo parallelo e di come questo impatti su\n",
    "performance e risultati prodotti.\n",
    "\n",
    "Durante la fase di test ho riscontrato alcuni comportamenti dei quali si\n",
    "dovrebbe tenere di conto quando si utilizza un algoritmo genetico che sfrutta\n",
    "il parallelismo.\n",
    "\n",
    "Ricordo di seguito la struttura assunta dal modello di calcolo parallelo la\n",
    "quale prevede la parallelizzazione della fasi di crossover, mutazione e\n",
    "valutazione degli individui.\n",
    "\n",
    "![struttura](images/map_reduce.svg)\n"
   ]
  }
 ],
 "metadata": {
  "@deathbeds/jupyterlab-fonts": {
   "styles": {
    ":root": {
     "--jp-code-font-size": "18px",
     "--jp-content-font-size1": "18px"
    }
   }
  },
  "kernelspec": {
   "display_name": "Python 3 (ipykernel)",
   "language": "python",
   "name": "python3"
  },
  "language_info": {
   "codemirror_mode": {
    "name": "ipython",
    "version": 3
   },
   "file_extension": ".py",
   "mimetype": "text/x-python",
   "name": "python",
   "nbconvert_exporter": "python",
   "pygments_lexer": "ipython3",
   "version": "3.10.12"
  }
 },
 "nbformat": 4,
 "nbformat_minor": 5
}
